{
 "cells": [
  {
   "cell_type": "code",
   "execution_count": 1,
   "metadata": {
    "colab": {
     "base_uri": "https://localhost:8080/",
     "height": 35
    },
    "colab_type": "code",
    "id": "zQyX8ddJk32y",
    "outputId": "85d913ac-cc14-4195-f6f8-ef81b190f334",
    "pycharm": {
     "name": "#%%\n"
    }
   },
   "outputs": [],
   "source": [
    "import numpy as np\n",
    "from matplotlib import pyplot as plt\n",
    "\n",
    "from keras import backend as K\n",
    "from keras.models import Model\n",
    "from keras.layers import Input\n",
    "from keras.layers import Dense\n",
    "from keras.layers import Conv2D\n",
    "from keras.layers import Lambda\n",
    "from keras.layers import Flatten\n",
    "from keras.layers import Reshape\n",
    "from keras.layers import Dropout\n",
    "from keras.layers import Activation\n",
    "from keras.layers import AveragePooling2D\n",
    "from keras.layers import BatchNormalization\n",
    "from keras.layers import add, concatenate\n",
    "from keras.preprocessing.image import ImageDataGenerator\n",
    "from keras.utils import plot_model\n",
    "import tensorflow\n",
    "from tensorflow.keras.regularizers import L2"
   ]
  },
  {
   "cell_type": "code",
   "execution_count": 2,
   "metadata": {},
   "outputs": [
    {
     "name": "stdout",
     "output_type": "stream",
     "text": [
      "Num GPUs Available:  1\n"
     ]
    }
   ],
   "source": [
    "import tensorflow as tf\n",
    "print(\"Num GPUs Available: \", len(tf.config.list_physical_devices('GPU')))"
   ]
  },
  {
   "cell_type": "code",
   "execution_count": 3,
   "metadata": {},
   "outputs": [],
   "source": [
    "tf.debugging.set_log_device_placement(False)"
   ]
  },
  {
   "cell_type": "code",
   "execution_count": 4,
   "metadata": {
    "colab": {},
    "colab_type": "code",
    "id": "EMcF2AfPk_SX",
    "pycharm": {
     "name": "#%%\n"
    }
   },
   "outputs": [],
   "source": [
    "# batch operation usng tensor slice\n",
    "def WaveletTransformAxisY(batch_img):\n",
    "    odd_img  = batch_img[:,0::2]\n",
    "    even_img = batch_img[:,1::2]\n",
    "    L = (odd_img + even_img) / 2.0\n",
    "    H = K.abs(odd_img - even_img)\n",
    "    return L, H\n",
    "\n",
    "def WaveletTransformAxisX(batch_img):\n",
    "    # transpose + fliplr\n",
    "    tmp_batch = K.permute_dimensions(batch_img, [0, 2, 1])[:,:,::-1]\n",
    "    _dst_L, _dst_H = WaveletTransformAxisY(tmp_batch)\n",
    "    # transpose + flipud\n",
    "    dst_L = K.permute_dimensions(_dst_L, [0, 2, 1])[:,::-1,...]\n",
    "    dst_H = K.permute_dimensions(_dst_H, [0, 2, 1])[:,::-1,...]\n",
    "    return dst_L, dst_H"
   ]
  },
  {
   "cell_type": "code",
   "execution_count": 5,
   "metadata": {
    "colab": {},
    "colab_type": "code",
    "id": "WLXXxjIhlCvn",
    "pycharm": {
     "name": "#%%\n"
    }
   },
   "outputs": [],
   "source": [
    "def Wavelet(batch_image):\n",
    "    # make channel first image\n",
    "    batch_image = K.permute_dimensions(batch_image, [0, 3, 1, 2])\n",
    "    r = batch_image[:,0]\n",
    "    g = batch_image[:,1]\n",
    "    b = batch_image[:,2]\n",
    "\n",
    "    # level 1 decomposition\n",
    "    wavelet_L, wavelet_H = WaveletTransformAxisY(r)\n",
    "    r_wavelet_LL, r_wavelet_LH = WaveletTransformAxisX(wavelet_L)\n",
    "    r_wavelet_HL, r_wavelet_HH = WaveletTransformAxisX(wavelet_H)\n",
    "\n",
    "    wavelet_L, wavelet_H = WaveletTransformAxisY(g)\n",
    "    g_wavelet_LL, g_wavelet_LH = WaveletTransformAxisX(wavelet_L)\n",
    "    g_wavelet_HL, g_wavelet_HH = WaveletTransformAxisX(wavelet_H)\n",
    "\n",
    "    wavelet_L, wavelet_H = WaveletTransformAxisY(b)\n",
    "    b_wavelet_LL, b_wavelet_LH = WaveletTransformAxisX(wavelet_L)\n",
    "    b_wavelet_HL, b_wavelet_HH = WaveletTransformAxisX(wavelet_H)\n",
    "\n",
    "    wavelet_data = [r_wavelet_LL, r_wavelet_LH, r_wavelet_HL, r_wavelet_HH, \n",
    "                    g_wavelet_LL, g_wavelet_LH, g_wavelet_HL, g_wavelet_HH,\n",
    "                    b_wavelet_LL, b_wavelet_LH, b_wavelet_HL, b_wavelet_HH]\n",
    "    transform_batch = K.stack(wavelet_data, axis=1)\n",
    "\n",
    "    # level 2 decomposition\n",
    "    wavelet_L2, wavelet_H2 = WaveletTransformAxisY(r_wavelet_LL)\n",
    "    r_wavelet_LL2, r_wavelet_LH2 = WaveletTransformAxisX(wavelet_L2)\n",
    "    r_wavelet_HL2, r_wavelet_HH2 = WaveletTransformAxisX(wavelet_H2)\n",
    "\n",
    "    wavelet_L2, wavelet_H2 = WaveletTransformAxisY(g_wavelet_LL)\n",
    "    g_wavelet_LL2, g_wavelet_LH2 = WaveletTransformAxisX(wavelet_L2)\n",
    "    g_wavelet_HL2, g_wavelet_HH2 = WaveletTransformAxisX(wavelet_H2)\n",
    "\n",
    "    wavelet_L2, wavelet_H2 = WaveletTransformAxisY(b_wavelet_LL)\n",
    "    b_wavelet_LL2, b_wavelet_LH2 = WaveletTransformAxisX(wavelet_L2)\n",
    "    b_wavelet_HL2, b_wavelet_HH2 = WaveletTransformAxisX(wavelet_H2)\n",
    "\n",
    "\n",
    "    wavelet_data_l2 = [r_wavelet_LL2, r_wavelet_LH2, r_wavelet_HL2, r_wavelet_HH2, \n",
    "                    g_wavelet_LL2, g_wavelet_LH2, g_wavelet_HL2, g_wavelet_HH2,\n",
    "                    b_wavelet_LL2, b_wavelet_LH2, b_wavelet_HL2, b_wavelet_HH2]\n",
    "    transform_batch_l2 = K.stack(wavelet_data_l2, axis=1)\n",
    "\n",
    "    # level 3 decomposition\n",
    "    wavelet_L3, wavelet_H3 = WaveletTransformAxisY(r_wavelet_LL2)\n",
    "    r_wavelet_LL3, r_wavelet_LH3 = WaveletTransformAxisX(wavelet_L3)\n",
    "    r_wavelet_HL3, r_wavelet_HH3 = WaveletTransformAxisX(wavelet_H3)\n",
    "\n",
    "    wavelet_L3, wavelet_H3 = WaveletTransformAxisY(g_wavelet_LL2)\n",
    "    g_wavelet_LL3, g_wavelet_LH3 = WaveletTransformAxisX(wavelet_L3)\n",
    "    g_wavelet_HL3, g_wavelet_HH3 = WaveletTransformAxisX(wavelet_H3)\n",
    "\n",
    "    wavelet_L3, wavelet_H3 = WaveletTransformAxisY(b_wavelet_LL2)\n",
    "    b_wavelet_LL3, b_wavelet_LH3 = WaveletTransformAxisX(wavelet_L3)\n",
    "    b_wavelet_HL3, b_wavelet_HH3 = WaveletTransformAxisX(wavelet_H3)\n",
    "\n",
    "    wavelet_data_l3 = [r_wavelet_LL3, r_wavelet_LH3, r_wavelet_HL3, r_wavelet_HH3, \n",
    "                    g_wavelet_LL3, g_wavelet_LH3, g_wavelet_HL3, g_wavelet_HH3,\n",
    "                    b_wavelet_LL3, b_wavelet_LH3, b_wavelet_HL3, b_wavelet_HH3]\n",
    "    transform_batch_l3 = K.stack(wavelet_data_l3, axis=1)\n",
    "\n",
    "    # level 4 decomposition\n",
    "    wavelet_L4, wavelet_H4 = WaveletTransformAxisY(r_wavelet_LL3)\n",
    "    r_wavelet_LL4, r_wavelet_LH4 = WaveletTransformAxisX(wavelet_L4)\n",
    "    r_wavelet_HL4, r_wavelet_HH4 = WaveletTransformAxisX(wavelet_H4)\n",
    "\n",
    "    wavelet_L4, wavelet_H4 = WaveletTransformAxisY(g_wavelet_LL3)\n",
    "    g_wavelet_LL4, g_wavelet_LH4 = WaveletTransformAxisX(wavelet_L4)\n",
    "    g_wavelet_HL4, g_wavelet_HH4 = WaveletTransformAxisX(wavelet_H4)\n",
    "\n",
    "    wavelet_L3, wavelet_H3 = WaveletTransformAxisY(b_wavelet_LL3)\n",
    "    b_wavelet_LL4, b_wavelet_LH4 = WaveletTransformAxisX(wavelet_L4)\n",
    "    b_wavelet_HL4, b_wavelet_HH4 = WaveletTransformAxisX(wavelet_H4)\n",
    "\n",
    "\n",
    "    wavelet_data_l4 = [r_wavelet_LL4, r_wavelet_LH4, r_wavelet_HL4, r_wavelet_HH4, \n",
    "                    g_wavelet_LL4, g_wavelet_LH4, g_wavelet_HL4, g_wavelet_HH4,\n",
    "                    b_wavelet_LL4, b_wavelet_LH4, b_wavelet_HL4, b_wavelet_HH4]\n",
    "    transform_batch_l4 = K.stack(wavelet_data_l4, axis=1)\n",
    "\n",
    "    # print('shape before')\n",
    "    # print(transform_batch.shape)\n",
    "    # print(transform_batch_l2.shape)\n",
    "    # print(transform_batch_l3.shape)\n",
    "    # print(transform_batch_l4.shape)\n",
    "\n",
    "    decom_level_1 = K.permute_dimensions(transform_batch, [0, 2, 3, 1])\n",
    "    decom_level_2 = K.permute_dimensions(transform_batch_l2, [0, 2, 3, 1])\n",
    "    decom_level_3 = K.permute_dimensions(transform_batch_l3, [0, 2, 3, 1])\n",
    "    decom_level_4 = K.permute_dimensions(transform_batch_l4, [0, 2, 3, 1])\n",
    "    \n",
    "    # print('shape after')\n",
    "    # print(decom_level_1.shape)\n",
    "    # print(decom_level_2.shape)\n",
    "    # print(decom_level_3.shape)\n",
    "    # print(decom_level_4.shape)\n",
    "    return [decom_level_1, decom_level_2, decom_level_3, decom_level_4]\n",
    "\n",
    "\n",
    "def Wavelet_out_shape(input_shapes):\n",
    "    # print('in to shape')\n",
    "    return [tuple([None, 96, 96, 12]), tuple([None, 48, 48, 12]), \n",
    "            tuple([None, 24, 24, 12]), tuple([None, 12, 12, 12])]"
   ]
  },
  {
   "cell_type": "code",
   "execution_count": 6,
   "metadata": {
    "colab": {},
    "colab_type": "code",
    "id": "h6dmgkdTlDOk",
    "pycharm": {
     "name": "#%%\n"
    }
   },
   "outputs": [
    {
     "data": {
      "text/plain": [
       "[TensorShape([8, 112, 112, 12]),\n",
       " TensorShape([8, 56, 56, 12]),\n",
       " TensorShape([8, 28, 28, 12]),\n",
       " TensorShape([8, 14, 14, 12])]"
      ]
     },
     "execution_count": 6,
     "metadata": {},
     "output_type": "execute_result"
    }
   ],
   "source": [
    "img_batch = K.zeros(shape=(8, 224, 224, 3), dtype='float32')\n",
    "[x.shape for x in Wavelet(img_batch)]"
   ]
  },
  {
   "cell_type": "code",
   "execution_count": 7,
   "metadata": {
    "colab": {},
    "colab_type": "code",
    "id": "2MpxaRCZlF1J",
    "pycharm": {
     "name": "#%%\n"
    }
   },
   "outputs": [],
   "source": [
    "def get_wavelet_cnn_model():\n",
    "\n",
    "    input_shape = 192, 192, 3\n",
    "\n",
    "    input_ = Input(input_shape, name='the_input')\n",
    "    # wavelet = Lambda(Wavelet, name='wavelet')\n",
    "    wavelet = Lambda(Wavelet, Wavelet_out_shape, name='wavelet')\n",
    "    input_l1, input_l2, input_l3, input_l4 = wavelet(input_)\n",
    "    # print(input_l1)\n",
    "    # print(input_l2)\n",
    "    # print(input_l3)\n",
    "    # print(input_l4)\n",
    "    # level one decomposition starts\n",
    "    conv_1 = Conv2D(64, kernel_size=(3, 3), padding='same', name='conv_1')(input_l1)\n",
    "    norm_1 = BatchNormalization(name='norm_1')(conv_1)\n",
    "    relu_1 = Activation('relu', name='relu_1')(norm_1)\n",
    "\n",
    "    conv_1_2 = Conv2D(64, kernel_size=(3, 3), strides=(2, 2), padding='same', name='conv_1_2')(relu_1)\n",
    "    norm_1_2 = BatchNormalization(name='norm_1_2')(conv_1_2)\n",
    "    relu_1_2 = Activation('relu', name='relu_1_2')(norm_1_2)\n",
    "\n",
    "    # level two decomposition starts\n",
    "    conv_a = Conv2D(filters=64, kernel_size=(3, 3), padding='same', name='conv_a')(input_l2)\n",
    "    norm_a = BatchNormalization(name='norm_a')(conv_a)\n",
    "    relu_a = Activation('relu', name='relu_a')(norm_a)\n",
    "\n",
    "    # concate level one and level two decomposition\n",
    "    concate_level_2 = concatenate([relu_1_2, relu_a])\n",
    "    conv_2 = Conv2D(128, kernel_size=(3, 3), padding='same', name='conv_2')(concate_level_2)\n",
    "    norm_2 = BatchNormalization(name='norm_2')(conv_2)\n",
    "    relu_2 = Activation('relu', name='relu_2')(norm_2)\n",
    "\n",
    "    conv_2_2 = Conv2D(128, kernel_size=(3, 3), strides=(2, 2), padding='same', name='conv_2_2')(relu_2)\n",
    "    norm_2_2 = BatchNormalization(name='norm_2_2')(conv_2_2)\n",
    "    relu_2_2 = Activation('relu', name='relu_2_2')(norm_2_2)\n",
    "\n",
    "    # level three decomposition starts \n",
    "    conv_b = Conv2D(filters=64, kernel_size=(3, 3), padding='same', name='conv_b')(input_l3)\n",
    "    norm_b = BatchNormalization(name='norm_b')(conv_b)\n",
    "    relu_b = Activation('relu', name='relu_b')(norm_b)\n",
    "\n",
    "    conv_b_2 = Conv2D(128, kernel_size=(3, 3), padding='same', name='conv_b_2')(relu_b)\n",
    "    norm_b_2 = BatchNormalization(name='norm_b_2')(conv_b_2)\n",
    "    relu_b_2 = Activation('relu', name='relu_b_2')(norm_b_2)\n",
    "\n",
    "    # concate level two and level three decomposition \n",
    "    concate_level_3 = concatenate([relu_2_2, relu_b_2])\n",
    "    conv_3 = Conv2D(256, kernel_size=(3, 3), padding='same', name='conv_3')(concate_level_3)\n",
    "    norm_3 = BatchNormalization(name='nomr_3')(conv_3)\n",
    "    relu_3 = Activation('relu', name='relu_3')(norm_3)\n",
    "\n",
    "    conv_3_2 = Conv2D(256, kernel_size=(3, 3), strides=(2, 2), padding='same', name='conv_3_2')(relu_3)\n",
    "    norm_3_2 = BatchNormalization(name='norm_3_2')(conv_3_2)\n",
    "    relu_3_2 = Activation('relu', name='relu_3_2')(norm_3_2)\n",
    "\n",
    "    # level four decomposition start\n",
    "    conv_c = Conv2D(64, kernel_size=(3, 3), padding='same', name='conv_c')(input_l4)\n",
    "    norm_c = BatchNormalization(name='norm_c')(conv_c)\n",
    "    relu_c = Activation('relu', name='relu_c')(norm_c)\n",
    "\n",
    "    conv_c_2 = Conv2D(256, kernel_size=(3, 3), padding='same', name='conv_c_2')(relu_c)\n",
    "    norm_c_2 = BatchNormalization(name='norm_c_2')(conv_c_2)\n",
    "    relu_c_2 = Activation('relu', name='relu_c_2')(norm_c_2)\n",
    "\n",
    "    conv_c_3 = Conv2D(256, kernel_size=(3, 3), padding='same', name='conv_c_3')(relu_c_2)\n",
    "    norm_c_3 = BatchNormalization(name='norm_c_3')(conv_c_3)\n",
    "    relu_c_3 = Activation('relu', name='relu_c_3')(norm_c_3)\n",
    "\n",
    "    # concate level level three and level four decomposition\n",
    "    concate_level_4 = concatenate([relu_3_2, relu_c_3])\n",
    "    conv_4 = Conv2D(256, kernel_size=(3, 3), padding='same', name='conv_4')(concate_level_4)\n",
    "    norm_4 = BatchNormalization(name='norm_4')(conv_4)\n",
    "    relu_4 = Activation('relu', name='relu_4')(norm_4)\n",
    "\n",
    "    conv_4_2 = Conv2D(256, kernel_size=(3, 3), strides=(2, 2), padding='same', name='conv_4_2')(relu_4)\n",
    "    norm_4_2 = BatchNormalization(name='norm_4_2')(conv_4_2)\n",
    "    relu_4_2 = Activation('relu', name='relu_4_2')(norm_4_2)\n",
    "\n",
    "    conv_5_1 = Conv2D(128, kernel_size=(3, 3), padding='same', name='conv_5_1')(relu_4_2)\n",
    "    norm_5_1 = BatchNormalization(name='norm_5_1')(conv_5_1)\n",
    "    relu_5_1 = Activation('relu', name='relu_5_1')(norm_5_1)\n",
    "\n",
    "    pool_5_1 = AveragePooling2D(pool_size=(7, 7), strides=1, padding='same', name='avg_pool_5_1')(relu_5_1)\n",
    "    flat_5_1 = Flatten(name='flat_5_1')(pool_5_1) \n",
    "\n",
    "    fc_5 = Dense(2048, name='fc_5')(flat_5_1)\n",
    "    norm_5 = BatchNormalization(name='norm_5')(fc_5)\n",
    "    relu_5 = Activation('relu', name='relu_5')(norm_5)\n",
    "    drop_5 = Dropout(0.5, name='drop_5')(relu_5)\n",
    "\n",
    "    fc_6 = Dense(2048, name='fc_6')(drop_5)\n",
    "    norm_6 = BatchNormalization(name='norm_6')(fc_6)\n",
    "    relu_6 = Activation('relu', name='relu_6')(norm_6)\n",
    "    drop_6 = Dropout(0.5, name='drop_6')(relu_6)\n",
    "\n",
    "    output = Dense(11, activation='softmax', name='fc_7')(drop_6)\n",
    "\n",
    "    model = Model(inputs=input_, outputs=output)\n",
    "    model.summary()\n",
    "    plot_model(model, to_file='wavelet_cnn_0.5.png')\n",
    "\n",
    "    return model"
   ]
  },
  {
   "cell_type": "code",
   "execution_count": 8,
   "metadata": {
    "colab": {
     "base_uri": "https://localhost:8080/",
     "height": 1000
    },
    "colab_type": "code",
    "id": "XlNN-MeWlQHX",
    "outputId": "729d4720-1ed6-47d9-d3c6-21c4f7008202",
    "pycharm": {
     "name": "#%%\n"
    }
   },
   "outputs": [
    {
     "name": "stdout",
     "output_type": "stream",
     "text": [
      "Model: \"model\"\n",
      "__________________________________________________________________________________________________\n",
      " Layer (type)                   Output Shape         Param #     Connected to                     \n",
      "==================================================================================================\n",
      " the_input (InputLayer)         [(None, 192, 192, 3  0           []                               \n",
      "                                )]                                                                \n",
      "                                                                                                  \n",
      " wavelet (Lambda)               [(None, 96, 96, 12)  0           ['the_input[0][0]']              \n",
      "                                , (None, 48, 48, 12                                               \n",
      "                                ),                                                                \n",
      "                                 (None, 24, 24, 12)                                               \n",
      "                                , (None, 12, 12, 12                                               \n",
      "                                )]                                                                \n",
      "                                                                                                  \n",
      " conv_1 (Conv2D)                (None, 96, 96, 64)   6976        ['wavelet[0][0]']                \n",
      "                                                                                                  \n",
      " norm_1 (BatchNormalization)    (None, 96, 96, 64)   256         ['conv_1[0][0]']                 \n",
      "                                                                                                  \n",
      " relu_1 (Activation)            (None, 96, 96, 64)   0           ['norm_1[0][0]']                 \n",
      "                                                                                                  \n",
      " conv_1_2 (Conv2D)              (None, 48, 48, 64)   36928       ['relu_1[0][0]']                 \n",
      "                                                                                                  \n",
      " conv_a (Conv2D)                (None, 48, 48, 64)   6976        ['wavelet[0][1]']                \n",
      "                                                                                                  \n",
      " norm_1_2 (BatchNormalization)  (None, 48, 48, 64)   256         ['conv_1_2[0][0]']               \n",
      "                                                                                                  \n",
      " norm_a (BatchNormalization)    (None, 48, 48, 64)   256         ['conv_a[0][0]']                 \n",
      "                                                                                                  \n",
      " relu_1_2 (Activation)          (None, 48, 48, 64)   0           ['norm_1_2[0][0]']               \n",
      "                                                                                                  \n",
      " relu_a (Activation)            (None, 48, 48, 64)   0           ['norm_a[0][0]']                 \n",
      "                                                                                                  \n",
      " concatenate (Concatenate)      (None, 48, 48, 128)  0           ['relu_1_2[0][0]',               \n",
      "                                                                  'relu_a[0][0]']                 \n",
      "                                                                                                  \n",
      " conv_2 (Conv2D)                (None, 48, 48, 128)  147584      ['concatenate[0][0]']            \n",
      "                                                                                                  \n",
      " conv_b (Conv2D)                (None, 24, 24, 64)   6976        ['wavelet[0][2]']                \n",
      "                                                                                                  \n",
      " norm_2 (BatchNormalization)    (None, 48, 48, 128)  512         ['conv_2[0][0]']                 \n",
      "                                                                                                  \n",
      " norm_b (BatchNormalization)    (None, 24, 24, 64)   256         ['conv_b[0][0]']                 \n",
      "                                                                                                  \n",
      " relu_2 (Activation)            (None, 48, 48, 128)  0           ['norm_2[0][0]']                 \n",
      "                                                                                                  \n",
      " relu_b (Activation)            (None, 24, 24, 64)   0           ['norm_b[0][0]']                 \n",
      "                                                                                                  \n",
      " conv_2_2 (Conv2D)              (None, 24, 24, 128)  147584      ['relu_2[0][0]']                 \n",
      "                                                                                                  \n",
      " conv_b_2 (Conv2D)              (None, 24, 24, 128)  73856       ['relu_b[0][0]']                 \n",
      "                                                                                                  \n",
      " norm_2_2 (BatchNormalization)  (None, 24, 24, 128)  512         ['conv_2_2[0][0]']               \n",
      "                                                                                                  \n",
      " norm_b_2 (BatchNormalization)  (None, 24, 24, 128)  512         ['conv_b_2[0][0]']               \n",
      "                                                                                                  \n",
      " conv_c (Conv2D)                (None, 12, 12, 64)   6976        ['wavelet[0][3]']                \n",
      "                                                                                                  \n",
      " relu_2_2 (Activation)          (None, 24, 24, 128)  0           ['norm_2_2[0][0]']               \n",
      "                                                                                                  \n",
      " relu_b_2 (Activation)          (None, 24, 24, 128)  0           ['norm_b_2[0][0]']               \n",
      "                                                                                                  \n",
      " norm_c (BatchNormalization)    (None, 12, 12, 64)   256         ['conv_c[0][0]']                 \n",
      "                                                                                                  \n",
      " concatenate_1 (Concatenate)    (None, 24, 24, 256)  0           ['relu_2_2[0][0]',               \n",
      "                                                                  'relu_b_2[0][0]']               \n",
      "                                                                                                  \n",
      " relu_c (Activation)            (None, 12, 12, 64)   0           ['norm_c[0][0]']                 \n",
      "                                                                                                  \n",
      " conv_3 (Conv2D)                (None, 24, 24, 256)  590080      ['concatenate_1[0][0]']          \n",
      "                                                                                                  \n",
      " conv_c_2 (Conv2D)              (None, 12, 12, 256)  147712      ['relu_c[0][0]']                 \n",
      "                                                                                                  \n",
      " nomr_3 (BatchNormalization)    (None, 24, 24, 256)  1024        ['conv_3[0][0]']                 \n",
      "                                                                                                  \n",
      " norm_c_2 (BatchNormalization)  (None, 12, 12, 256)  1024        ['conv_c_2[0][0]']               \n",
      "                                                                                                  \n",
      " relu_3 (Activation)            (None, 24, 24, 256)  0           ['nomr_3[0][0]']                 \n",
      "                                                                                                  \n",
      " relu_c_2 (Activation)          (None, 12, 12, 256)  0           ['norm_c_2[0][0]']               \n",
      "                                                                                                  \n",
      " conv_3_2 (Conv2D)              (None, 12, 12, 256)  590080      ['relu_3[0][0]']                 \n",
      "                                                                                                  \n",
      " conv_c_3 (Conv2D)              (None, 12, 12, 256)  590080      ['relu_c_2[0][0]']               \n",
      "                                                                                                  \n"
     ]
    },
    {
     "name": "stdout",
     "output_type": "stream",
     "text": [
      " norm_3_2 (BatchNormalization)  (None, 12, 12, 256)  1024        ['conv_3_2[0][0]']               \n",
      "                                                                                                  \n",
      " norm_c_3 (BatchNormalization)  (None, 12, 12, 256)  1024        ['conv_c_3[0][0]']               \n",
      "                                                                                                  \n",
      " relu_3_2 (Activation)          (None, 12, 12, 256)  0           ['norm_3_2[0][0]']               \n",
      "                                                                                                  \n",
      " relu_c_3 (Activation)          (None, 12, 12, 256)  0           ['norm_c_3[0][0]']               \n",
      "                                                                                                  \n",
      " concatenate_2 (Concatenate)    (None, 12, 12, 512)  0           ['relu_3_2[0][0]',               \n",
      "                                                                  'relu_c_3[0][0]']               \n",
      "                                                                                                  \n",
      " conv_4 (Conv2D)                (None, 12, 12, 256)  1179904     ['concatenate_2[0][0]']          \n",
      "                                                                                                  \n",
      " norm_4 (BatchNormalization)    (None, 12, 12, 256)  1024        ['conv_4[0][0]']                 \n",
      "                                                                                                  \n",
      " relu_4 (Activation)            (None, 12, 12, 256)  0           ['norm_4[0][0]']                 \n",
      "                                                                                                  \n",
      " conv_4_2 (Conv2D)              (None, 6, 6, 256)    590080      ['relu_4[0][0]']                 \n",
      "                                                                                                  \n",
      " norm_4_2 (BatchNormalization)  (None, 6, 6, 256)    1024        ['conv_4_2[0][0]']               \n",
      "                                                                                                  \n",
      " relu_4_2 (Activation)          (None, 6, 6, 256)    0           ['norm_4_2[0][0]']               \n",
      "                                                                                                  \n",
      " conv_5_1 (Conv2D)              (None, 6, 6, 128)    295040      ['relu_4_2[0][0]']               \n",
      "                                                                                                  \n",
      " norm_5_1 (BatchNormalization)  (None, 6, 6, 128)    512         ['conv_5_1[0][0]']               \n",
      "                                                                                                  \n",
      " relu_5_1 (Activation)          (None, 6, 6, 128)    0           ['norm_5_1[0][0]']               \n",
      "                                                                                                  \n",
      " avg_pool_5_1 (AveragePooling2D  (None, 6, 6, 128)   0           ['relu_5_1[0][0]']               \n",
      " )                                                                                                \n",
      "                                                                                                  \n",
      " flat_5_1 (Flatten)             (None, 4608)         0           ['avg_pool_5_1[0][0]']           \n",
      "                                                                                                  \n",
      " fc_5 (Dense)                   (None, 2048)         9439232     ['flat_5_1[0][0]']               \n",
      "                                                                                                  \n",
      " norm_5 (BatchNormalization)    (None, 2048)         8192        ['fc_5[0][0]']                   \n",
      "                                                                                                  \n",
      " relu_5 (Activation)            (None, 2048)         0           ['norm_5[0][0]']                 \n",
      "                                                                                                  \n",
      " drop_5 (Dropout)               (None, 2048)         0           ['relu_5[0][0]']                 \n",
      "                                                                                                  \n",
      " fc_6 (Dense)                   (None, 2048)         4196352     ['drop_5[0][0]']                 \n",
      "                                                                                                  \n",
      " norm_6 (BatchNormalization)    (None, 2048)         8192        ['fc_6[0][0]']                   \n",
      "                                                                                                  \n",
      " relu_6 (Activation)            (None, 2048)         0           ['norm_6[0][0]']                 \n",
      "                                                                                                  \n",
      " drop_6 (Dropout)               (None, 2048)         0           ['relu_6[0][0]']                 \n",
      "                                                                                                  \n",
      " fc_7 (Dense)                   (None, 11)           22539       ['drop_6[0][0]']                 \n",
      "                                                                                                  \n",
      "==================================================================================================\n",
      "Total params: 18,100,811\n",
      "Trainable params: 18,087,883\n",
      "Non-trainable params: 12,928\n",
      "__________________________________________________________________________________________________\n",
      "You must install pydot (`pip install pydot`) and install graphviz (see instructions at https://graphviz.gitlab.io/download/) for plot_model/model_to_dot to work.\n"
     ]
    }
   ],
   "source": [
    "model = get_wavelet_cnn_model()"
   ]
  },
  {
   "cell_type": "code",
   "execution_count": 9,
   "metadata": {
    "colab": {
     "base_uri": "https://localhost:8080/",
     "height": 73
    },
    "colab_type": "code",
    "id": "w6zpGp6flIEz",
    "outputId": "25b3b88a-b5f9-42d1-c769-8d46517c3bd7",
    "pycharm": {
     "name": "#%%\n"
    }
   },
   "outputs": [],
   "source": [
    "opt=tensorflow.keras.optimizers.Adam(learning_rate=0.01)\n",
    "model.compile(optimizer=opt, loss='categorical_crossentropy', metrics=['accuracy'])"
   ]
  },
  {
   "cell_type": "code",
   "execution_count": 10,
   "metadata": {
    "colab": {
     "base_uri": "https://localhost:8080/",
     "height": 53
    },
    "colab_type": "code",
    "id": "ejmciqicnMnu",
    "outputId": "ebacd6d9-2162-4215-da3c-b4afca30a00d",
    "pycharm": {
     "name": "#%%\n"
    }
   },
   "outputs": [],
   "source": [
    "train_data_dir = 'kth_tips_grey_200x200/KTH-TIPS2-b'"
   ]
  },
  {
   "cell_type": "code",
   "execution_count": 15,
   "metadata": {},
   "outputs": [
    {
     "name": "stdout",
     "output_type": "stream",
     "text": [
      "Found 4279 images belonging to 11 classes.\n",
      "Found 473 images belonging to 11 classes.\n",
      "Epoch 1/40\n",
      "268/268 [==============================] - 29s 108ms/step - loss: 3.0146 - accuracy: 0.4606 - val_loss: 4.0704 - val_accuracy: 0.3319\n",
      "Epoch 2/40\n",
      "268/268 [==============================] - 30s 110ms/step - loss: 2.1258 - accuracy: 0.5611 - val_loss: 2.1901 - val_accuracy: 0.4989\n",
      "Epoch 3/40\n",
      "268/268 [==============================] - 29s 109ms/step - loss: 1.7649 - accuracy: 0.5733 - val_loss: 1.4113 - val_accuracy: 0.5624\n",
      "Epoch 4/40\n",
      "268/268 [==============================] - 29s 109ms/step - loss: 1.3281 - accuracy: 0.6172 - val_loss: 0.9198 - val_accuracy: 0.7252\n",
      "Epoch 5/40\n",
      "268/268 [==============================] - 29s 108ms/step - loss: 1.0665 - accuracy: 0.6525 - val_loss: 1.7528 - val_accuracy: 0.4693\n",
      "Epoch 6/40\n",
      "268/268 [==============================] - 29s 108ms/step - loss: 0.9460 - accuracy: 0.6714 - val_loss: 1.0007 - val_accuracy: 0.7040\n",
      "Epoch 7/40\n",
      "268/268 [==============================] - 29s 110ms/step - loss: 0.9358 - accuracy: 0.6831 - val_loss: 2.0853 - val_accuracy: 0.5687\n",
      "Epoch 8/40\n",
      "268/268 [==============================] - 30s 110ms/step - loss: 0.7866 - accuracy: 0.7394 - val_loss: 0.9361 - val_accuracy: 0.7167\n",
      "Epoch 9/40\n",
      "268/268 [==============================] - 29s 108ms/step - loss: 0.7819 - accuracy: 0.7333 - val_loss: 1.4237 - val_accuracy: 0.6342\n",
      "Epoch 10/40\n",
      "268/268 [==============================] - 29s 109ms/step - loss: 0.8016 - accuracy: 0.7397 - val_loss: 0.3731 - val_accuracy: 0.8795\n",
      "Epoch 11/40\n",
      "268/268 [==============================] - 29s 109ms/step - loss: 0.7514 - accuracy: 0.7443 - val_loss: 1.6100 - val_accuracy: 0.6723\n",
      "Epoch 12/40\n",
      "268/268 [==============================] - 30s 111ms/step - loss: 0.7107 - accuracy: 0.7560 - val_loss: 1.3324 - val_accuracy: 0.6406\n",
      "Epoch 13/40\n",
      "268/268 [==============================] - 29s 109ms/step - loss: 0.6898 - accuracy: 0.7668 - val_loss: 1.3723 - val_accuracy: 0.6554\n",
      "Epoch 14/40\n",
      "268/268 [==============================] - 29s 109ms/step - loss: 0.6689 - accuracy: 0.7749 - val_loss: 0.6248 - val_accuracy: 0.8055\n",
      "Epoch 15/40\n",
      "268/268 [==============================] - 30s 112ms/step - loss: 0.6798 - accuracy: 0.7749 - val_loss: 0.6130 - val_accuracy: 0.7590\n",
      "Epoch 16/40\n",
      "268/268 [==============================] - 29s 110ms/step - loss: 0.6634 - accuracy: 0.7878 - val_loss: 1.3407 - val_accuracy: 0.7167\n",
      "Epoch 17/40\n",
      "268/268 [==============================] - 29s 108ms/step - loss: 0.6043 - accuracy: 0.7948 - val_loss: 2.2272 - val_accuracy: 0.5264\n",
      "Epoch 18/40\n",
      "268/268 [==============================] - 29s 109ms/step - loss: 0.6246 - accuracy: 0.7976 - val_loss: 1.2610 - val_accuracy: 0.6533\n",
      "Epoch 19/40\n",
      "268/268 [==============================] - 29s 109ms/step - loss: 0.5878 - accuracy: 0.8100 - val_loss: 2.7912 - val_accuracy: 0.4820\n",
      "Epoch 20/40\n",
      "268/268 [==============================] - 29s 109ms/step - loss: 0.5763 - accuracy: 0.8210 - val_loss: 2.6735 - val_accuracy: 0.4440\n",
      "Epoch 21/40\n",
      "268/268 [==============================] - 29s 109ms/step - loss: 0.5818 - accuracy: 0.8058 - val_loss: 1.1671 - val_accuracy: 0.7061\n",
      "Epoch 22/40\n",
      "268/268 [==============================] - 30s 111ms/step - loss: 0.5034 - accuracy: 0.8362 - val_loss: 1.8093 - val_accuracy: 0.6596\n",
      "Epoch 23/40\n",
      "268/268 [==============================] - 30s 112ms/step - loss: 0.5165 - accuracy: 0.8261 - val_loss: 0.9940 - val_accuracy: 0.7801\n",
      "Epoch 24/40\n",
      "268/268 [==============================] - 29s 109ms/step - loss: 0.4793 - accuracy: 0.8535 - val_loss: 1.5689 - val_accuracy: 0.6723\n",
      "Epoch 25/40\n",
      "268/268 [==============================] - 31s 114ms/step - loss: 0.5162 - accuracy: 0.8401 - val_loss: 0.7065 - val_accuracy: 0.7273\n"
     ]
    }
   ],
   "source": [
    "train_datagen = ImageDataGenerator(\n",
    "    shear_range=0.2,\n",
    "    zoom_range=0.2,\n",
    "    horizontal_flip=True,\n",
    "    validation_split=0.1) # et validation split\n",
    "\n",
    "train_generator = train_datagen.flow_from_directory(\n",
    "    train_data_dir,\n",
    "    target_size=(192, 192),\n",
    "    batch_size=16,\n",
    "    class_mode='categorical',\n",
    "    subset='training') # set as training data\n",
    "\n",
    "validation_generator = train_datagen.flow_from_directory(\n",
    "    train_data_dir, # same directory as training data\n",
    "    target_size=(192, 192),\n",
    "    batch_size=32,\n",
    "    class_mode='categorical',\n",
    "    subset='validation') # set as validation a\n",
    "\n",
    "history=model.fit(\n",
    "    train_generator,\n",
    "    validation_data = validation_generator, \n",
    "    epochs = 40,\n",
    "    callbacks=[tensorflow.keras.callbacks.EarlyStopping(monitor='val_accuracy', patience=15)])"
   ]
  },
  {
   "cell_type": "code",
   "execution_count": 16,
   "metadata": {
    "colab": {
     "base_uri": "https://localhost:8080/",
     "height": 313
    },
    "colab_type": "code",
    "id": "MI3d6ONirH6h",
    "outputId": "2c7ff91a-14dc-46c3-bd45-d2e3d00d7dab",
    "pycharm": {
     "name": "#%%\n"
    }
   },
   "outputs": [
    {
     "name": "stdout",
     "output_type": "stream",
     "text": [
      "dict_keys(['loss', 'accuracy', 'val_loss', 'val_accuracy'])\n"
     ]
    },
    {
     "data": {
      "text/plain": [
       "<matplotlib.legend.Legend at 0x1be2dea4610>"
      ]
     },
     "execution_count": 16,
     "metadata": {},
     "output_type": "execute_result"
    },
    {
     "data": {
      "image/png": "[encoded data removed]",
      "text/plain": [
       "<Figure size 432x288 with 1 Axes>"
      ]
     },
     "metadata": {
      "needs_background": "light"
     },
     "output_type": "display_data"
    }
   ],
   "source": [
    "acc = history.history['accuracy']\n",
    "print(history.history.keys())\n",
    "val_acc = history.history['val_accuracy']\n",
    "epochs = range(len(acc))\n",
    "plt.plot(acc, label='training accuracy')\n",
    "plt.plot(val_acc, label='validation accuracy')\n",
    "plt.title('Accuracy curve')\n",
    "plt.xlabel('epochs')\n",
    "plt.ylabel('accuracy')\n",
    "plt.legend()"
   ]
  },
  {
   "cell_type": "code",
   "execution_count": 18,
   "metadata": {
    "colab": {
     "base_uri": "https://localhost:8080/",
     "height": 313
    },
    "colab_type": "code",
    "id": "FjlFssvfrIwO",
    "outputId": "f1bfef36-bc05-4740-fd73-4168d19762ad",
    "pycharm": {
     "name": "#%%\n"
    }
   },
   "outputs": [
    {
     "data": {
      "text/plain": [
       "<matplotlib.legend.Legend at 0x1be2df8e040>"
      ]
     },
     "execution_count": 18,
     "metadata": {},
     "output_type": "execute_result"
    },
    {
     "data": {
      "image/png": "[encoded data removed]",
      "text/plain": [
       "<Figure size 432x288 with 1 Axes>"
      ]
     },
     "metadata": {
      "needs_background": "light"
     },
     "output_type": "display_data"
    }
   ],
   "source": [
    "loss = history.history['loss']\n",
    "val_loss = history.history['val_loss']\n",
    "\n",
    "plt.plot(loss, label='training loss')\n",
    "plt.plot(val_loss, label='validation loss')\n",
    "plt.title('Loss curve')\n",
    "plt.xlabel('epochs')\n",
    "plt.ylabel('loss')\n",
    "plt.legend()"
   ]
  },
  {
   "cell_type": "code",
   "execution_count": 21,
   "metadata": {},
   "outputs": [
    {
     "name": "stderr",
     "output_type": "stream",
     "text": [
      "WARNING:absl:Found untraced functions such as _jit_compiled_convolution_op, _jit_compiled_convolution_op, _jit_compiled_convolution_op, _jit_compiled_convolution_op, _jit_compiled_convolution_op while saving (showing 5 of 15). These functions will not be directly callable after loading.\n"
     ]
    },
    {
     "name": "stdout",
     "output_type": "stream",
     "text": [
      "INFO:tensorflow:Assets written to: saved_model\\WaveLetCNN\\assets\n"
     ]
    },
    {
     "name": "stderr",
     "output_type": "stream",
     "text": [
      "INFO:tensorflow:Assets written to: saved_model\\WaveLetCNN\\assets\n"
     ]
    }
   ],
   "source": [
    "model.save('saved_model\\WaveLetCNN')"
   ]
  },
  {
   "cell_type": "code",
   "execution_count": null,
   "metadata": {},
   "outputs": [],
   "source": []
  },
  {
   "cell_type": "code",
   "execution_count": null,
   "metadata": {},
   "outputs": [],
   "source": []
  }
 ],
 "metadata": {
  "accelerator": "GPU",
  "colab": {
   "name": " waveletCNN_Keras_0.6_[Exp on 10K_data].ipynb",
   "provenance": []
  },
  "kernelspec": {
   "display_name": "Python 3 (ipykernel)",
   "language": "python",
   "name": "python3"
  },
  "language_info": {
   "codemirror_mode": {
    "name": "ipython",
    "version": 3
   },
   "file_extension": ".py",
   "mimetype": "text/x-python",
   "name": "python",
   "nbconvert_exporter": "python",
   "pygments_lexer": "ipython3",
   "version": "3.9.2"
  }
 },
 "nbformat": 4,
 "nbformat_minor": 1
}
